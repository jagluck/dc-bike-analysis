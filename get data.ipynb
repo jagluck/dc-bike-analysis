{
 "cells": [
  {
   "cell_type": "code",
   "execution_count": 25,
   "metadata": {},
   "outputs": [],
   "source": [
    "import requests\n",
    "import pandas as pd \n",
    "import numpy as np\n",
    "import folium "
   ]
  },
  {
   "cell_type": "code",
   "execution_count": 27,
   "metadata": {},
   "outputs": [],
   "source": [
    "# https://opendata.dc.gov/datasets/70392a096a8e431381f1f692aaa06afd_24?geometry=-77.446%2C38.808%2C-76.579%2C38.995\n",
    "\n",
    "def download_file(url, local_filename):\n",
    "    # NOTE the stream=True parameter below\n",
    "    with requests.get(url, stream=True) as r:\n",
    "        r.raise_for_status()\n",
    "        with open(local_filename, 'wb') as f:\n",
    "            for chunk in r.iter_content(chunk_size=16384): \n",
    "                if chunk: # filter out keep-alive new chunks\n",
    "                    f.write(chunk)\n",
    "                    # f.flush()\n",
    "    return local_filename\n",
    "\n",
    "url = \"https://opendata.arcgis.com/datasets/70392a096a8e431381f1f692aaa06afd_24.csv\"\n",
    "fileName = download_file(url, \"data/accidents.csv\")"
   ]
  },
  {
   "cell_type": "code",
   "execution_count": 7,
   "metadata": {},
   "outputs": [],
   "source": [
    "fileName = \"data/accidents.csv\"\n",
    "usecolsall = [\"X\",\"Y\",\"OBJECTID\",\"CRIMEID\",\"CCN\",\"REPORTDATE\",\"ROUTEID\",\"MEASURE\",\"OFFSET\",\"STREETSEGID\",\"ROADWAYSEGID\",\"FROMDATE\",\"TODATE\",\"MARID\",\"ADDRESS\",\"LATITUDE\",\"LONGITUDE\",\"XCOORD\",\"YCOORD\",\"WARD\",\"EVENTID\",\"MAR_ADDRESS\",\"MAR_SCORE\",\"MAJORINJURIES_BICYCLIST\",\"MINORINJURIES_BICYCLIST\",\"UNKNOWNINJURIES_BICYCLIST\",\"FATAL_BICYCLIST\",\"MAJORINJURIES_DRIVER\",\"MINORINJURIES_DRIVER\",\"UNKNOWNINJURIES_DRIVER\",\"FATAL_DRIVER\",\"MAJORINJURIES_PEDESTRIAN\",\"MINORINJURIES_PEDESTRIAN\",\"UNKNOWNINJURIES_PEDESTRIAN\",\"FATAL_PEDESTRIAN\",\"TOTAL_VEHICLES\",\"TOTAL_BICYCLES\",\"TOTAL_PEDESTRIANS\",\"PEDESTRIANSIMPAIRED\",\"BICYCLISTSIMPAIRED\",\"DRIVERSIMPAIRED\",\"TOTAL_TAXIS\",\"TOTAL_GOVERNMENT\",\"SPEEDING_INVOLVED\",\"NEARESTINTROUTEID\",\"NEARESTINTSTREETNAME\",\"OFFINTERSECTION\",\"INTAPPROACHDIRECTION\",\"LOCATIONERROR\",\"LASTUPDATEDATE\",\"MPDLATITUDE\",\"MPDLONGITUDE\",\"MPDGEOX\",\"MPDGEOY\",\"BLOCKKEY\"]\n",
    "accidentData = pd.read_csv(fileName, usecols=usecolsall)\n",
    "accidentData['FROMDATE'] = pd.to_datetime(accidentData['FROMDATE']) \n",
    "accidentData = accidentData[accidentData['FROMDATE'] > \"2016-12-31\"]\n",
    "accidentData['FROMDATE'] = pd.to_datetime(accidentData['FROMDATE']) \n",
    "accidentData = accidentData[accidentData['FROMDATE'] > \"2016-12-31\"]"
   ]
  },
  {
   "cell_type": "code",
   "execution_count": 8,
   "metadata": {},
   "outputs": [
    {
     "name": "stdout",
     "output_type": "stream",
     "text": [
      "['X', 'Y', 'OBJECTID', 'CRIMEID', 'CCN', 'REPORTDATE', 'ROUTEID', 'MEASURE', 'OFFSET', 'STREETSEGID', 'ROADWAYSEGID', 'FROMDATE', 'TODATE', 'MARID', 'ADDRESS', 'LATITUDE', 'LONGITUDE', 'XCOORD', 'YCOORD', 'WARD', 'EVENTID', 'MAR_ADDRESS', 'MAR_SCORE', 'MAJORINJURIES_BICYCLIST', 'MINORINJURIES_BICYCLIST', 'UNKNOWNINJURIES_BICYCLIST', 'FATAL_BICYCLIST', 'MAJORINJURIES_DRIVER', 'MINORINJURIES_DRIVER', 'UNKNOWNINJURIES_DRIVER', 'FATAL_DRIVER', 'MAJORINJURIES_PEDESTRIAN', 'MINORINJURIES_PEDESTRIAN', 'UNKNOWNINJURIES_PEDESTRIAN', 'FATAL_PEDESTRIAN', 'TOTAL_VEHICLES', 'TOTAL_BICYCLES', 'TOTAL_PEDESTRIANS', 'PEDESTRIANSIMPAIRED', 'BICYCLISTSIMPAIRED', 'DRIVERSIMPAIRED', 'TOTAL_TAXIS', 'TOTAL_GOVERNMENT', 'SPEEDING_INVOLVED', 'NEARESTINTROUTEID', 'NEARESTINTSTREETNAME', 'OFFINTERSECTION', 'INTAPPROACHDIRECTION', 'LOCATIONERROR', 'LASTUPDATEDATE', 'MPDLATITUDE', 'MPDLONGITUDE', 'MPDGEOX', 'MPDGEOY', 'BLOCKKEY']\n"
     ]
    }
   ],
   "source": [
    "print(list(accidentData))"
   ]
  },
  {
   "cell_type": "code",
   "execution_count": 9,
   "metadata": {},
   "outputs": [],
   "source": [
    "smallData = accidentData[['TOTAL_BICYCLES','TOTAL_VEHICLES','TOTAL_PEDESTRIANS','LATITUDE', 'LONGITUDE', 'XCOORD', 'YCOORD', 'FATAL_BICYCLIST', 'MPDLATITUDE', 'MPDLONGITUDE', 'FROMDATE','NEARESTINTSTREETNAME','NEARESTINTROUTEID','OFFINTERSECTION']]"
   ]
  },
  {
   "cell_type": "code",
   "execution_count": 18,
   "metadata": {},
   "outputs": [],
   "source": [
    "# get only accidents that include a bike\n",
    "bikeData = smallData[smallData['TOTAL_BICYCLES'] > 0]\n",
    "\n",
    "# get only accidents that include a bike and a pedestrian\n",
    "bikePedData = smallData[(smallData['TOTAL_BICYCLES'] > 0) & (smallData['TOTAL_PEDESTRIANS'] > 0) & (smallData['TOTAL_VEHICLES'] == 0)]\n",
    "\n",
    "# get only accidents that include a bike and a vehicles\n",
    "bikeVehData = smallData[(smallData['TOTAL_BICYCLES'] > 0) & (smallData['TOTAL_VEHICLES'] > 0)]"
   ]
  },
  {
   "cell_type": "code",
   "execution_count": 11,
   "metadata": {},
   "outputs": [],
   "source": [
    "# save them to csvs\n",
    "bikeData.to_csv(\"data/bikes.csv\")\n",
    "bikePedData.to_csv(\"data/bikePedData.csv\")\n",
    "bikeVehData.to_csv(\"data/bikeVehData.csv\")"
   ]
  },
  {
   "cell_type": "code",
   "execution_count": null,
   "metadata": {},
   "outputs": [],
   "source": [
    "# https://opendata.dc.gov/datasets/294e062cdf2c48d5b9cbc374d9709bc0_2/data\n",
    "# # plot the cluster assignments\n",
    "# plt.scatter(accPoints[:, 0], accPoints[:, 1], c=clusters, cmap=\"plasma\")\n",
    "# plt.xlabel(\"Feature 0\")\n",
    "# plt.ylabel(\"Feature 1\")"
   ]
  },
  {
   "cell_type": "code",
   "execution_count": 31,
   "metadata": {},
   "outputs": [],
   "source": [
    "url = \"https://opendata.dc.gov/datasets/294e062cdf2c48d5b9cbc374d9709bc0_2.csv\"\n",
    "fileName = download_file(url,\"data/streets.csv\")"
   ]
  },
  {
   "cell_type": "code",
   "execution_count": 32,
   "metadata": {},
   "outputs": [],
   "source": [
    "url = \"https://opendata.arcgis.com/datasets/f21813094ed24fd5ba66a07b61a1acee_46.csv\"\n",
    "fileName = download_file(url,\"data/streetSegs.csv\")"
   ]
  },
  {
   "cell_type": "code",
   "execution_count": null,
   "metadata": {},
   "outputs": [],
   "source": []
  }
 ],
 "metadata": {
  "kernelspec": {
   "display_name": "Python 3",
   "language": "python",
   "name": "python3"
  },
  "language_info": {
   "codemirror_mode": {
    "name": "ipython",
    "version": 3
   },
   "file_extension": ".py",
   "mimetype": "text/x-python",
   "name": "python",
   "nbconvert_exporter": "python",
   "pygments_lexer": "ipython3",
   "version": "3.7.5"
  }
 },
 "nbformat": 4,
 "nbformat_minor": 2
}
