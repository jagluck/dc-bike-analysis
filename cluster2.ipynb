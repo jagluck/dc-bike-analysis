{
 "cells": [
  {
   "cell_type": "code",
   "execution_count": 7,
   "metadata": {},
   "outputs": [],
   "source": [
    "import pandas as pd \n",
    "import numpy as np\n",
    "from sklearn.cluster import DBSCAN\n",
    "from sklearn.preprocessing import StandardScaler\n",
    "from sklearn.datasets import make_blobs\n",
    "import matplotlib.pyplot as plt\n",
    "import folium\n",
    "from geojson import Feature, FeatureCollection, Point\n",
    "import json\n",
    "from scipy.spatial import ConvexHull, convex_hull_plot_2d\n",
    "from folium import IFrame\n",
    "from pyproj import Proj\n",
    "from shapely.geometry import Polygon"
   ]
  },
  {
   "cell_type": "code",
   "execution_count": 8,
   "metadata": {},
   "outputs": [
    {
     "ename": "FileNotFoundError",
     "evalue": "[Errno 2] File b'data/bikes.csv' does not exist: b'data/bikes.csv'",
     "output_type": "error",
     "traceback": [
      "\u001b[0;31m---------------------------------------------------------------------------\u001b[0m",
      "\u001b[0;31mFileNotFoundError\u001b[0m                         Traceback (most recent call last)",
      "\u001b[0;32m<ipython-input-8-2aff6aa42fec>\u001b[0m in \u001b[0;36m<module>\u001b[0;34m\u001b[0m\n\u001b[1;32m      1\u001b[0m \u001b[0;31m# save them to csvs\u001b[0m\u001b[0;34m\u001b[0m\u001b[0;34m\u001b[0m\u001b[0;34m\u001b[0m\u001b[0m\n\u001b[0;32m----> 2\u001b[0;31m \u001b[0mbikeData\u001b[0m \u001b[0;34m=\u001b[0m \u001b[0mpd\u001b[0m\u001b[0;34m.\u001b[0m\u001b[0mread_csv\u001b[0m\u001b[0;34m(\u001b[0m\u001b[0;34m\"data/bikes.csv\"\u001b[0m\u001b[0;34m)\u001b[0m\u001b[0;34m\u001b[0m\u001b[0;34m\u001b[0m\u001b[0m\n\u001b[0m\u001b[1;32m      3\u001b[0m \u001b[0mstreets\u001b[0m \u001b[0;34m=\u001b[0m \u001b[0mpd\u001b[0m\u001b[0;34m.\u001b[0m\u001b[0mread_csv\u001b[0m\u001b[0;34m(\u001b[0m\u001b[0;34m\"data/streets.csv\"\u001b[0m\u001b[0;34m)\u001b[0m\u001b[0;34m\u001b[0m\u001b[0;34m\u001b[0m\u001b[0m\n\u001b[1;32m      4\u001b[0m \u001b[0mstreetSegs\u001b[0m \u001b[0;34m=\u001b[0m \u001b[0mpd\u001b[0m\u001b[0;34m.\u001b[0m\u001b[0mread_csv\u001b[0m\u001b[0;34m(\u001b[0m\u001b[0;34m\"data/streetSegs.csv\"\u001b[0m\u001b[0;34m)\u001b[0m\u001b[0;34m\u001b[0m\u001b[0;34m\u001b[0m\u001b[0m\n",
      "\u001b[0;32m/usr/local/lib/python3.7/site-packages/pandas/io/parsers.py\u001b[0m in \u001b[0;36mparser_f\u001b[0;34m(filepath_or_buffer, sep, delimiter, header, names, index_col, usecols, squeeze, prefix, mangle_dupe_cols, dtype, engine, converters, true_values, false_values, skipinitialspace, skiprows, skipfooter, nrows, na_values, keep_default_na, na_filter, verbose, skip_blank_lines, parse_dates, infer_datetime_format, keep_date_col, date_parser, dayfirst, cache_dates, iterator, chunksize, compression, thousands, decimal, lineterminator, quotechar, quoting, doublequote, escapechar, comment, encoding, dialect, error_bad_lines, warn_bad_lines, delim_whitespace, low_memory, memory_map, float_precision)\u001b[0m\n\u001b[1;32m    683\u001b[0m         )\n\u001b[1;32m    684\u001b[0m \u001b[0;34m\u001b[0m\u001b[0m\n\u001b[0;32m--> 685\u001b[0;31m         \u001b[0;32mreturn\u001b[0m \u001b[0m_read\u001b[0m\u001b[0;34m(\u001b[0m\u001b[0mfilepath_or_buffer\u001b[0m\u001b[0;34m,\u001b[0m \u001b[0mkwds\u001b[0m\u001b[0;34m)\u001b[0m\u001b[0;34m\u001b[0m\u001b[0;34m\u001b[0m\u001b[0m\n\u001b[0m\u001b[1;32m    686\u001b[0m \u001b[0;34m\u001b[0m\u001b[0m\n\u001b[1;32m    687\u001b[0m     \u001b[0mparser_f\u001b[0m\u001b[0;34m.\u001b[0m\u001b[0m__name__\u001b[0m \u001b[0;34m=\u001b[0m \u001b[0mname\u001b[0m\u001b[0;34m\u001b[0m\u001b[0;34m\u001b[0m\u001b[0m\n",
      "\u001b[0;32m/usr/local/lib/python3.7/site-packages/pandas/io/parsers.py\u001b[0m in \u001b[0;36m_read\u001b[0;34m(filepath_or_buffer, kwds)\u001b[0m\n\u001b[1;32m    455\u001b[0m \u001b[0;34m\u001b[0m\u001b[0m\n\u001b[1;32m    456\u001b[0m     \u001b[0;31m# Create the parser.\u001b[0m\u001b[0;34m\u001b[0m\u001b[0;34m\u001b[0m\u001b[0;34m\u001b[0m\u001b[0m\n\u001b[0;32m--> 457\u001b[0;31m     \u001b[0mparser\u001b[0m \u001b[0;34m=\u001b[0m \u001b[0mTextFileReader\u001b[0m\u001b[0;34m(\u001b[0m\u001b[0mfp_or_buf\u001b[0m\u001b[0;34m,\u001b[0m \u001b[0;34m**\u001b[0m\u001b[0mkwds\u001b[0m\u001b[0;34m)\u001b[0m\u001b[0;34m\u001b[0m\u001b[0;34m\u001b[0m\u001b[0m\n\u001b[0m\u001b[1;32m    458\u001b[0m \u001b[0;34m\u001b[0m\u001b[0m\n\u001b[1;32m    459\u001b[0m     \u001b[0;32mif\u001b[0m \u001b[0mchunksize\u001b[0m \u001b[0;32mor\u001b[0m \u001b[0miterator\u001b[0m\u001b[0;34m:\u001b[0m\u001b[0;34m\u001b[0m\u001b[0;34m\u001b[0m\u001b[0m\n",
      "\u001b[0;32m/usr/local/lib/python3.7/site-packages/pandas/io/parsers.py\u001b[0m in \u001b[0;36m__init__\u001b[0;34m(self, f, engine, **kwds)\u001b[0m\n\u001b[1;32m    893\u001b[0m             \u001b[0mself\u001b[0m\u001b[0;34m.\u001b[0m\u001b[0moptions\u001b[0m\u001b[0;34m[\u001b[0m\u001b[0;34m\"has_index_names\"\u001b[0m\u001b[0;34m]\u001b[0m \u001b[0;34m=\u001b[0m \u001b[0mkwds\u001b[0m\u001b[0;34m[\u001b[0m\u001b[0;34m\"has_index_names\"\u001b[0m\u001b[0;34m]\u001b[0m\u001b[0;34m\u001b[0m\u001b[0;34m\u001b[0m\u001b[0m\n\u001b[1;32m    894\u001b[0m \u001b[0;34m\u001b[0m\u001b[0m\n\u001b[0;32m--> 895\u001b[0;31m         \u001b[0mself\u001b[0m\u001b[0;34m.\u001b[0m\u001b[0m_make_engine\u001b[0m\u001b[0;34m(\u001b[0m\u001b[0mself\u001b[0m\u001b[0;34m.\u001b[0m\u001b[0mengine\u001b[0m\u001b[0;34m)\u001b[0m\u001b[0;34m\u001b[0m\u001b[0;34m\u001b[0m\u001b[0m\n\u001b[0m\u001b[1;32m    896\u001b[0m \u001b[0;34m\u001b[0m\u001b[0m\n\u001b[1;32m    897\u001b[0m     \u001b[0;32mdef\u001b[0m \u001b[0mclose\u001b[0m\u001b[0;34m(\u001b[0m\u001b[0mself\u001b[0m\u001b[0;34m)\u001b[0m\u001b[0;34m:\u001b[0m\u001b[0;34m\u001b[0m\u001b[0;34m\u001b[0m\u001b[0m\n",
      "\u001b[0;32m/usr/local/lib/python3.7/site-packages/pandas/io/parsers.py\u001b[0m in \u001b[0;36m_make_engine\u001b[0;34m(self, engine)\u001b[0m\n\u001b[1;32m   1133\u001b[0m     \u001b[0;32mdef\u001b[0m \u001b[0m_make_engine\u001b[0m\u001b[0;34m(\u001b[0m\u001b[0mself\u001b[0m\u001b[0;34m,\u001b[0m \u001b[0mengine\u001b[0m\u001b[0;34m=\u001b[0m\u001b[0;34m\"c\"\u001b[0m\u001b[0;34m)\u001b[0m\u001b[0;34m:\u001b[0m\u001b[0;34m\u001b[0m\u001b[0;34m\u001b[0m\u001b[0m\n\u001b[1;32m   1134\u001b[0m         \u001b[0;32mif\u001b[0m \u001b[0mengine\u001b[0m \u001b[0;34m==\u001b[0m \u001b[0;34m\"c\"\u001b[0m\u001b[0;34m:\u001b[0m\u001b[0;34m\u001b[0m\u001b[0;34m\u001b[0m\u001b[0m\n\u001b[0;32m-> 1135\u001b[0;31m             \u001b[0mself\u001b[0m\u001b[0;34m.\u001b[0m\u001b[0m_engine\u001b[0m \u001b[0;34m=\u001b[0m \u001b[0mCParserWrapper\u001b[0m\u001b[0;34m(\u001b[0m\u001b[0mself\u001b[0m\u001b[0;34m.\u001b[0m\u001b[0mf\u001b[0m\u001b[0;34m,\u001b[0m \u001b[0;34m**\u001b[0m\u001b[0mself\u001b[0m\u001b[0;34m.\u001b[0m\u001b[0moptions\u001b[0m\u001b[0;34m)\u001b[0m\u001b[0;34m\u001b[0m\u001b[0;34m\u001b[0m\u001b[0m\n\u001b[0m\u001b[1;32m   1136\u001b[0m         \u001b[0;32melse\u001b[0m\u001b[0;34m:\u001b[0m\u001b[0;34m\u001b[0m\u001b[0;34m\u001b[0m\u001b[0m\n\u001b[1;32m   1137\u001b[0m             \u001b[0;32mif\u001b[0m \u001b[0mengine\u001b[0m \u001b[0;34m==\u001b[0m \u001b[0;34m\"python\"\u001b[0m\u001b[0;34m:\u001b[0m\u001b[0;34m\u001b[0m\u001b[0;34m\u001b[0m\u001b[0m\n",
      "\u001b[0;32m/usr/local/lib/python3.7/site-packages/pandas/io/parsers.py\u001b[0m in \u001b[0;36m__init__\u001b[0;34m(self, src, **kwds)\u001b[0m\n\u001b[1;32m   1904\u001b[0m         \u001b[0mkwds\u001b[0m\u001b[0;34m[\u001b[0m\u001b[0;34m\"usecols\"\u001b[0m\u001b[0;34m]\u001b[0m \u001b[0;34m=\u001b[0m \u001b[0mself\u001b[0m\u001b[0;34m.\u001b[0m\u001b[0musecols\u001b[0m\u001b[0;34m\u001b[0m\u001b[0;34m\u001b[0m\u001b[0m\n\u001b[1;32m   1905\u001b[0m \u001b[0;34m\u001b[0m\u001b[0m\n\u001b[0;32m-> 1906\u001b[0;31m         \u001b[0mself\u001b[0m\u001b[0;34m.\u001b[0m\u001b[0m_reader\u001b[0m \u001b[0;34m=\u001b[0m \u001b[0mparsers\u001b[0m\u001b[0;34m.\u001b[0m\u001b[0mTextReader\u001b[0m\u001b[0;34m(\u001b[0m\u001b[0msrc\u001b[0m\u001b[0;34m,\u001b[0m \u001b[0;34m**\u001b[0m\u001b[0mkwds\u001b[0m\u001b[0;34m)\u001b[0m\u001b[0;34m\u001b[0m\u001b[0;34m\u001b[0m\u001b[0m\n\u001b[0m\u001b[1;32m   1907\u001b[0m         \u001b[0mself\u001b[0m\u001b[0;34m.\u001b[0m\u001b[0munnamed_cols\u001b[0m \u001b[0;34m=\u001b[0m \u001b[0mself\u001b[0m\u001b[0;34m.\u001b[0m\u001b[0m_reader\u001b[0m\u001b[0;34m.\u001b[0m\u001b[0munnamed_cols\u001b[0m\u001b[0;34m\u001b[0m\u001b[0;34m\u001b[0m\u001b[0m\n\u001b[1;32m   1908\u001b[0m \u001b[0;34m\u001b[0m\u001b[0m\n",
      "\u001b[0;32mpandas/_libs/parsers.pyx\u001b[0m in \u001b[0;36mpandas._libs.parsers.TextReader.__cinit__\u001b[0;34m()\u001b[0m\n",
      "\u001b[0;32mpandas/_libs/parsers.pyx\u001b[0m in \u001b[0;36mpandas._libs.parsers.TextReader._setup_parser_source\u001b[0;34m()\u001b[0m\n",
      "\u001b[0;31mFileNotFoundError\u001b[0m: [Errno 2] File b'data/bikes.csv' does not exist: b'data/bikes.csv'"
     ]
    }
   ],
   "source": [
    "# save them to csvs\n",
    "bikeData = pd.read_csv(\"data/bikes.csv\")\n",
    "streets = pd.read_csv(\"data/streets.csv\")\n",
    "streetSegs = pd.read_csv(\"data/streetSegs.csv\")"
   ]
  },
  {
   "cell_type": "code",
   "execution_count": null,
   "metadata": {},
   "outputs": [],
   "source": [
    "def runCluster(dataset, eps, minSamples):\n",
    "    accPoints = np.empty((0, 2))   \n",
    "    \n",
    "    for lat,long in zip(dataset['LATITUDE'], dataset['LONGITUDE']):\n",
    "        accPoints = np.append(accPoints, np.array([[lat,long]]), axis=0)\n",
    "\n",
    "    # Compute DBSCAN\n",
    "    db = DBSCAN(eps=eps, min_samples=minSamples).fit(accPoints)\n",
    "\n",
    "    clusters = db.fit_predict(accPoints)\n",
    "    dataset['CLUSTER'] = clusters\n",
    "    \n",
    "\n",
    "    clusters = dataset['CLUSTER'].unique()   \n",
    "    clusterDict = {}\n",
    "    primaryStreetDict = {}\n",
    "    secondaryStreetDict = {}\n",
    "    primaryFacilityTypeDict = {}\n",
    "    secondaryFacilityTypeDict = {}\n",
    "    primaryStreetSegIdDict = {}\n",
    "    secondaryStreetSegIdDict = {}\n",
    "    \n",
    "    for i in clusters:\n",
    "        clusterSet = dataset[(dataset[\"CLUSTER\"] == i) & (dataset[\"STREETSEGID\"] > 0)]\n",
    "        valueCounts = clusterSet['STREETSEGID'].value_counts()\n",
    "        if (len(valueCounts.index) > 1):\n",
    "            primaryValueId = valueCounts.index[0]\n",
    "            primaryValue = streetSegs[streetSegs[\"STREETSEGID\"] == int(primaryValueId)].reset_index()[\"REGISTEREDNAME\"][0]\n",
    "            secondaryValueId = valueCounts.index[1]\n",
    "            secondaryValue = streetSegs[streetSegs[\"STREETSEGID\"] == int(secondaryValueId)].reset_index()[\"REGISTEREDNAME\"][0]\n",
    "            primaryStreetDict[i] = primaryValue\n",
    "            secondaryStreetDict[i] = secondaryValue\n",
    "            \n",
    "            facilityResp = streets[streets[\"STREETSEGID\"] == int(primaryValueId)]\n",
    "            if (len(facilityResp) > 0):    \n",
    "                primaryFacilityTypeDict[i] = facilityResp.reset_index()[\"FACILITY\"][0]\n",
    "                primaryStreetSegIdDict[i] = primaryValueId\n",
    "            else:\n",
    "                primaryFacilityTypeDict[i] = \"None\"\n",
    "                primaryStreetSegIdDict[i] = \"None\"\n",
    "            facilityResp = streets[streets[\"STREETSEGID\"] == int(secondaryValueId)]\n",
    "            if (len(facilityResp) > 0):  \n",
    "                secondaryFacilityTypeDict[i] = facilityResp.reset_index()[\"FACILITY\"][0]\n",
    "                secondaryStreetSegIdDict[i] = secondaryValueId\n",
    "            else:\n",
    "                secondaryFacilityTypeDict[i] = \"None\"\n",
    "                secondaryStreetSegIdDict[i] = \"None\"\n",
    "        elif (len(valueCounts.index) > 0):\n",
    "            primaryValueId = valueCounts.index[0]\n",
    "            primaryValue = streetSegs[streetSegs[\"STREETSEGID\"] == int(primaryValueId)].reset_index()[\"REGISTEREDNAME\"][0]\n",
    "            primaryStreetDict[i] = primaryValue\n",
    "            facilityResp = streets[streets[\"STREETSEGID\"] == int(primaryValueId)]\n",
    "            if (len(facilityResp) > 0):    \n",
    "                primaryFacilityTypeDict[i] = facilityResp.reset_index()[\"FACILITY\"][0]\n",
    "                primaryStreetSegIdDict[i] = primaryValueId\n",
    "            else:\n",
    "                primaryFacilityTypeDict[i] = \"None\"\n",
    "                primaryStreetSegIdDict[i] = \"None\"\n",
    "                \n",
    "            secondaryStreetDict[i] = \"None\"\n",
    "            secondaryFacilityTypeDict[i] = \"None\"\n",
    "            secondaryStreetSegIdDict[i] = \"None\"\n",
    "        else:\n",
    "            primaryStreetDict[i] = \"None\"\n",
    "            secondaryStreetDict[i] = \"None\"\n",
    "            primaryFacilityTypeDict[i] = \"None\"\n",
    "            secondaryFacilityTypeDict[i] = \"None\"\n",
    "            primaryStreetSegIdDict[i] = \"None\"\n",
    "            secondaryStreetSegIdDict[i] = \"None\"\n",
    "            \n",
    "    primaryStreets = []\n",
    "    secondaryStreets = []\n",
    "    primaryFacilityTypes = []\n",
    "    secondaryFacilityTypes = []\n",
    "    primaryStreetSegIds = []\n",
    "    secondaryStreetSegIds = []\n",
    "\n",
    "    for i in dataset[\"CLUSTER\"]:\n",
    "        if (primaryStreetDict[i] == \"None\"):\n",
    "            primaryStreets.append(\"None\")\n",
    "            primaryFacilityTypes.append(\"None\")\n",
    "            primaryStreetSegIds.append(\"None\")\n",
    "        else:\n",
    "            primaryStreets.append(primaryStreetDict[i])\n",
    "            primaryFacilityTypes.append(primaryFacilityTypeDict[i])\n",
    "            primaryStreetSegIds.append(primaryStreetSegIdDict[i])\n",
    "        if (secondaryStreetDict[i] == \"None\"):\n",
    "            secondaryStreets.append(\"None\")\n",
    "            secondaryFacilityTypes.append(\"None\")\n",
    "            secondaryStreetSegIds.append(\"None\")\n",
    "        else:\n",
    "            secondaryStreets.append(secondaryStreetDict[i])\n",
    "            secondaryFacilityTypes.append(secondaryFacilityTypeDict[i])\n",
    "            secondaryStreetSegIds.append(secondaryStreetSegIdDict[i])\n",
    "       \n",
    "    dataset['CLUSTERPRIMARYSTREET'] = primaryStreets\n",
    "    dataset['CLUSTERSECONDARYSTREET'] = secondaryStreets\n",
    "    dataset['CLUSTERprimaryFACILITYTYPE'] = primaryFacilityTypes\n",
    "    dataset['CLUSTERSECONDARYFACILITYTYPE'] = secondaryFacilityTypes\n",
    "    dataset['CLUSTERPRIMARYSTREETSEGID'] = primaryStreetSegIds\n",
    "    dataset['CLUSTERSECONDARYSTREETSEGID'] = secondaryStreetSegIds\n",
    "    return dataset"
   ]
  },
  {
   "cell_type": "code",
   "execution_count": null,
   "metadata": {},
   "outputs": [],
   "source": [
    "clusteredDataSmall = runCluster(bikeData, 0.0015, 25)"
   ]
  },
  {
   "cell_type": "code",
   "execution_count": null,
   "metadata": {},
   "outputs": [],
   "source": [
    "clusteredDataMedium = runCluster(bikeData, 0.0014, 15)"
   ]
  },
  {
   "cell_type": "code",
   "execution_count": null,
   "metadata": {},
   "outputs": [],
   "source": [
    "clusteredDataLarge = runCluster(bikeData, 0.0005, 7)"
   ]
  }
 ],
 "metadata": {
  "kernelspec": {
   "display_name": "Python 3",
   "language": "python",
   "name": "python3"
  },
  "language_info": {
   "codemirror_mode": {
    "name": "ipython",
    "version": 3
   },
   "file_extension": ".py",
   "mimetype": "text/x-python",
   "name": "python",
   "nbconvert_exporter": "python",
   "pygments_lexer": "ipython3",
   "version": "3.7.5"
  }
 },
 "nbformat": 4,
 "nbformat_minor": 2
}
