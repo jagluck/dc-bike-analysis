{
 "cells": [
  {
   "cell_type": "code",
   "execution_count": 2,
   "metadata": {},
   "outputs": [],
   "source": [
    "import requests\n",
    "import pandas as pd \n",
    "import numpy as np\n",
    "import os\n",
    "from os import listdir\n",
    "from os.path import isfile, join\n",
    "import pathlib\n",
    "import urllib\n",
    "import urllib.request\n",
    "import zipfile\n",
    "import io"
   ]
  },
  {
   "cell_type": "code",
   "execution_count": 3,
   "metadata": {},
   "outputs": [],
   "source": [
    "def download_file(url, local_filename):\n",
    "    # NOTE the stream=True parameter below\n",
    "    with requests.get(url, stream=True) as r:\n",
    "        r.raise_for_status()\n",
    "        with open(local_filename, 'wb') as f:\n",
    "            for chunk in r.iter_content(chunk_size=16384): \n",
    "                if chunk: # filter out keep-alive new chunks\n",
    "                    f.write(chunk)\n",
    "                    # f.flush()\n",
    "    return local_filename\n",
    "\n",
    "\n",
    "def buildUrl(year, month):\n",
    "    return \"https://s3.amazonaws.com/capitalbikeshare-data/\" + str(year) + \"{0:0=2d}\".format(month) + \"-capitalbikeshare-tripdata.zip\"\n",
    "\n",
    "def downloadZipFile(url):\n",
    "    r = requests.get(url)\n",
    "    z = zipfile.ZipFile(io.BytesIO(r.content))\n",
    "    ourPath =  str(pathlib.Path().absolute()) + \"/data/\"\n",
    "    print(ourPath)\n",
    "    z.extractall(ourPath)\n",
    "\n",
    "def downloadAllZipFiles():\n",
    "    year = 2021\n",
    "    month = 1\n",
    "    while month < 13:\n",
    "        url = buildUrl(year,month)\n",
    "        downloadZipFile(url)\n",
    "\n",
    "        month += 1\n",
    "    \n",
    "def makeFrame():\n",
    "    ourPath = str(pathlib.Path().absolute()) + \"/data/\"\n",
    "\n",
    "    onlyFiles = [f for f in listdir(ourPath) if isfile(join(ourPath, f))]\n",
    "\n",
    "    dfs = []\n",
    "    for fileName in onlyFiles:\n",
    "        if (\"-capitalbikeshare-tripdata\" in fileName):\n",
    "            print(fileName)\n",
    "            fileName = str(ourPath + fileName)\n",
    "            mylist = []\n",
    "\n",
    "            for chunk in  pd.read_csv(fileName, encoding = \"utf-8\", chunksize=20000):\n",
    "                mylist.append(chunk)\n",
    "                \n",
    "            os.remove(fileName)\n",
    "\n",
    "            big_data = pd.concat(mylist, axis= 0)\n",
    "            del(mylist)\n",
    "            dfs.append(big_data)\n",
    "\n",
    "    # Concatenate all data into one DataFrame\n",
    "    big_frame = pd.concat(dfs, ignore_index=True)\n",
    "    return big_frame\n",
    "    "
   ]
  },
  {
   "cell_type": "code",
   "execution_count": 9,
   "metadata": {},
   "outputs": [],
   "source": [
    "# get all open data dc data for the project\n",
    "\n",
    "# working\n",
    "url = \"https://opendata.arcgis.com/datasets/70392a096a8e431381f1f692aaa06afd_24.csv\"\n",
    "fileName = download_file(url, \"data/source data/accidents.csv\")\n",
    " \n",
    "# roadway-subblock\n",
    "# https://opendata.dc.gov/datasets/roadway-subblock/explore\n",
    "url = \"https://opendata.arcgis.com/api/v3/datasets/df571ab7fea446e396bf2862d0ab6833_162/downloads/data?format=csv&spatialRefId=4326\"\n",
    "fileName = download_file(url,\"data/source data/streets.csv\")\n",
    "\n",
    "url = \"https://opendata.dc.gov/datasets/df571ab7fea446e396bf2862d0ab6833_162.kml\"\n",
    "fileName = download_file(url,\"data/source data/streets.kml\")\n",
    "\n",
    "# working\n",
    "url = \"https://opendata.arcgis.com/datasets/a1f7acf65795451d89f0a38565a975b3_5.csv\"\n",
    "fileName = download_file(url,\"data/source data/bikeShareLocations.csv\")"
   ]
  },
  {
   "cell_type": "code",
   "execution_count": 6,
   "metadata": {},
   "outputs": [
    {
     "name": "stdout",
     "output_type": "stream",
     "text": [
      "/User/jgluck/Documents/GitHub/dc-bike-analysis/data/\n",
      "/User/jgluck/Documents/GitHub/dc-bike-analysis/data/\n",
      "/User/jgluck/Documents/GitHub/dc-bike-analysis/data/\n",
      "/User/jgluck/Documents/GitHub/dc-bike-analysis/data/\n",
      "/User/jgluck/Documents/GitHub/dc-bike-analysis/data/\n",
      "/User/jgluck/Documents/GitHub/dc-bike-analysis/data/\n",
      "/User/jgluck/Documents/GitHub/dc-bike-analysis/data/\n",
      "/User/jgluck/Documents/GitHub/dc-bike-analysis/data/\n",
      "/User/jgluck/Documents/GitHub/dc-bike-analysis/data/\n",
      "/User/jgluck/Documents/GitHub/dc-bike-analysis/data/\n",
      "/User/jgluck/Documents/GitHub/dc-bike-analysis/data/\n",
      "/User/jgluck/Documents/GitHub/dc-bike-analysis/data/\n",
      "202111-capitalbikeshare-tripdata.csv\n",
      "202107-capitalbikeshare-tripdata.csv\n",
      "202108-capitalbikeshare-tripdata.csv\n",
      "202110-capitalbikeshare-tripdata.csv\n",
      "202101-capitalbikeshare-tripdata.csv\n",
      "202109-capitalbikeshare-tripdata.csv\n",
      "202106-capitalbikeshare-tripdata.csv\n",
      "202105-capitalbikeshare-tripdata.csv\n",
      "202102-capitalbikeshare-tripdata.csv\n",
      "202104-capitalbikeshare-tripdata.csv\n",
      "202103-capitalbikeshare-tripdata.csv\n",
      "202112-capitalbikeshare-tripdata.csv\n"
     ]
    }
   ],
   "source": [
    "# get bike share data\n",
    "downloadAllZipFiles()\n",
    "big_frame = makeFrame()\n",
    "big_frame.to_csv(\"data/source data/bikeShareTrips.csv\")"
   ]
  }
 ],
 "metadata": {
  "kernelspec": {
   "display_name": "Python 3",
   "language": "python",
   "name": "python3"
  },
  "language_info": {
   "codemirror_mode": {
    "name": "ipython",
    "version": 3
   },
   "file_extension": ".py",
   "mimetype": "text/x-python",
   "name": "python",
   "nbconvert_exporter": "python",
   "pygments_lexer": "ipython3",
   "version": "3.9.2"
  }
 },
 "nbformat": 4,
 "nbformat_minor": 2
}
