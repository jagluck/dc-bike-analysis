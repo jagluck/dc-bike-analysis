{
 "cells": [
  {
   "cell_type": "code",
   "execution_count": 1,
   "metadata": {},
   "outputs": [],
   "source": [
    "import requests\n",
    "import pandas as pd \n",
    "import numpy as np\n",
    "import os\n",
    "from os import listdir\n",
    "from os.path import isfile, join\n",
    "import pathlib\n",
    "import urllib\n",
    "import urllib.request\n",
    "import zipfile\n",
    "import io"
   ]
  },
  {
   "cell_type": "code",
   "execution_count": 9,
   "metadata": {},
   "outputs": [],
   "source": [
    "def download_file(url, local_filename):\n",
    "    # NOTE the stream=True parameter below\n",
    "    with requests.get(url, stream=True) as r:\n",
    "        r.raise_for_status()\n",
    "        with open(local_filename, 'wb') as f:\n",
    "            for chunk in r.iter_content(chunk_size=16384): \n",
    "                if chunk: # filter out keep-alive new chunks\n",
    "                    f.write(chunk)\n",
    "                    # f.flush()\n",
    "    return local_filename\n",
    "\n",
    "\n",
    "def buildUrl(year, month):\n",
    "    return \"https://s3.amazonaws.com/capitalbikeshare-data/\" + str(year) + \"{0:0=2d}\".format(month) + \"-capitalbikeshare-tripdata.zip\"\n",
    "\n",
    "def downloadZipFile(url):\n",
    "    r = requests.get(url)\n",
    "    z = zipfile.ZipFile(io.BytesIO(r.content))\n",
    "    ourPath =  str(pathlib.Path().absolute()) + \"/data/\"\n",
    "    print(ourPath)\n",
    "    z.extractall(ourPath)\n",
    "\n",
    "def downloadAllZipFiles():\n",
    "    year = 2019\n",
    "    month = 2\n",
    "    while month < 13:\n",
    "        url = buildUrl(year,month)\n",
    "        downloadZipFile(url)\n",
    "\n",
    "        month += 1\n",
    "    \n",
    "def makeFrame():\n",
    "    ourPath = str(pathlib.Path().absolute()) + \"/data/\"\n",
    "\n",
    "    onlyFiles = [f for f in listdir(ourPath) if isfile(join(ourPath, f))]\n",
    "\n",
    "    dfs = []\n",
    "    for fileName in onlyFiles:\n",
    "        if (\"-capitalbikeshare-tripdata\" in fileName):\n",
    "            print(fileName)\n",
    "            fileName = str(ourPath + fileName)\n",
    "            mylist = []\n",
    "\n",
    "            for chunk in  pd.read_csv(fileName, encoding = \"utf-8\", chunksize=20000):\n",
    "                mylist.append(chunk)\n",
    "                \n",
    "            os.remove(fileName)\n",
    "\n",
    "            big_data = pd.concat(mylist, axis= 0)\n",
    "            del(mylist)\n",
    "            dfs.append(big_data)\n",
    "\n",
    "    # Concatenate all data into one DataFrame\n",
    "    big_frame = pd.concat(dfs, ignore_index=True)\n",
    "    return big_frame\n",
    "    "
   ]
  },
  {
   "cell_type": "code",
   "execution_count": 11,
   "metadata": {},
   "outputs": [],
   "source": [
    "# get all open data dc data for the project\n",
    "\n",
    "url = \"https://opendata.arcgis.com/datasets/70392a096a8e431381f1f692aaa06afd_24.csv\"\n",
    "fileName = download_file(url, \"data/source data/accidents.csv\")\n",
    "\n",
    "url = \"https://opendata.dc.gov/datasets/294e062cdf2c48d5b9cbc374d9709bc0_2.csv\"\n",
    "fileName = download_file(url,\"data/source data/streets.csv\")\n",
    "\n",
    "url = \"https://opendata.dc.gov/datasets/294e062cdf2c48d5b9cbc374d9709bc0_2.kml\"\n",
    "fileName = download_file(url,\"data/source data/streets.kml\")\n",
    "\n",
    "url = \"https://opendata.arcgis.com/datasets/f21813094ed24fd5ba66a07b61a1acee_46.csv\"\n",
    "fileName = download_file(url,\"data/source data/streetSegs.csv\")\n",
    "\n",
    "url = \"https://opendata.arcgis.com/datasets/a1f7acf65795451d89f0a38565a975b3_5.csv\"\n",
    "fileName = download_file(url,\"data/source data/bikeShareLocations.csv\")"
   ]
  },
  {
   "cell_type": "code",
   "execution_count": 10,
   "metadata": {},
   "outputs": [
    {
     "name": "stdout",
     "output_type": "stream",
     "text": [
      "/User/jgluck/Documents/GitHub/dc-bike-analysis/data/\n",
      "/User/jgluck/Documents/GitHub/dc-bike-analysis/data/\n",
      "/User/jgluck/Documents/GitHub/dc-bike-analysis/data/\n",
      "/User/jgluck/Documents/GitHub/dc-bike-analysis/data/\n",
      "/User/jgluck/Documents/GitHub/dc-bike-analysis/data/\n",
      "/User/jgluck/Documents/GitHub/dc-bike-analysis/data/\n",
      "/User/jgluck/Documents/GitHub/dc-bike-analysis/data/\n",
      "/User/jgluck/Documents/GitHub/dc-bike-analysis/data/\n",
      "/User/jgluck/Documents/GitHub/dc-bike-analysis/data/\n",
      "/User/jgluck/Documents/GitHub/dc-bike-analysis/data/\n",
      "/User/jgluck/Documents/GitHub/dc-bike-analysis/data/\n",
      "201910-capitalbikeshare-tripdata.csv\n",
      "201909-capitalbikeshare-tripdata.csv\n",
      "201906-capitalbikeshare-tripdata.csv\n",
      "201911-capitalbikeshare-tripdata.csv\n",
      "201904-capitalbikeshare-tripdata.csv\n",
      "201908-capitalbikeshare-tripdata\n",
      "201903-capitalbikeshare-tripdata.csv\n",
      "201912-capitalbikeshare-tripdata.csv\n",
      "201907-capitalbikeshare-tripdata\n",
      "201905-capitalbikeshare-tripdata.csv\n",
      "201902-capitalbikeshare-tripdata.csv\n"
     ]
    }
   ],
   "source": [
    "# get bike share data\n",
    "downloadAllZipFiles()\n",
    "big_frame = makeFrame()\n",
    "big_frame.to_csv(\"data/source data/bikeShareTrips.csv\")"
   ]
  }
 ],
 "metadata": {
  "kernelspec": {
   "display_name": "Python 3",
   "language": "python",
   "name": "python3"
  },
  "language_info": {
   "codemirror_mode": {
    "name": "ipython",
    "version": 3
   },
   "file_extension": ".py",
   "mimetype": "text/x-python",
   "name": "python",
   "nbconvert_exporter": "python",
   "pygments_lexer": "ipython3",
   "version": "3.7.5"
  }
 },
 "nbformat": 4,
 "nbformat_minor": 2
}
