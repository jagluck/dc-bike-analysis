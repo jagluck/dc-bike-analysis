{
 "cells": [
  {
   "cell_type": "code",
   "execution_count": 28,
   "metadata": {},
   "outputs": [],
   "source": [
    "import pandas as pd \n",
    "import numpy as np\n",
    "import collections\n",
    "pd.set_option('display.max_columns', None)"
   ]
  },
  {
   "cell_type": "code",
   "execution_count": 29,
   "metadata": {},
   "outputs": [
    {
     "name": "stderr",
     "output_type": "stream",
     "text": [
      "/usr/local/lib/python3.9/site-packages/IPython/core/interactiveshell.py:3146: DtypeWarning: Columns (4) have mixed types.Specify dtype option on import or set low_memory=False.\n",
      "  has_raised = await self.run_ast_nodes(code_ast.body, cell_name,\n"
     ]
    }
   ],
   "source": [
    "# first make bike accident dataset\n",
    "\n",
    "fileName = \"data/source data/accidents.csv\"\n",
    "usecolsall = [\"X\",\"Y\",\"OBJECTID\",\"CRIMEID\",\"CCN\",\"REPORTDATE\",\"ROUTEID\",\"MEASURE\",\"OFFSET\",\"STREETSEGID\",\"ROADWAYSEGID\",\"FROMDATE\",\"TODATE\",\"ADDRESS\",\"LATITUDE\",\"LONGITUDE\",\"XCOORD\",\"YCOORD\",\"WARD\",\"EVENTID\",\"MAR_ADDRESS\",\"MAR_SCORE\",\"MAJORINJURIES_BICYCLIST\",\"MINORINJURIES_BICYCLIST\",\"UNKNOWNINJURIES_BICYCLIST\",\"FATAL_BICYCLIST\",\"MAJORINJURIES_DRIVER\",\"MINORINJURIES_DRIVER\",\"UNKNOWNINJURIES_DRIVER\",\"FATAL_DRIVER\",\"MAJORINJURIES_PEDESTRIAN\",\"MINORINJURIES_PEDESTRIAN\",\"UNKNOWNINJURIES_PEDESTRIAN\",\"FATAL_PEDESTRIAN\",\"TOTAL_VEHICLES\",\"TOTAL_BICYCLES\",\"TOTAL_PEDESTRIANS\",\"PEDESTRIANSIMPAIRED\",\"BICYCLISTSIMPAIRED\",\"DRIVERSIMPAIRED\",\"TOTAL_TAXIS\",\"TOTAL_GOVERNMENT\",\"SPEEDING_INVOLVED\",\"NEARESTINTROUTEID\",\"NEARESTINTSTREETNAME\",\"OFFINTERSECTION\",\"INTAPPROACHDIRECTION\",\"LOCATIONERROR\",\"LASTUPDATEDATE\",\"MPDLATITUDE\",\"MPDLONGITUDE\",\"MPDGEOX\",\"MPDGEOY\"]\n",
    "accidentData = pd.read_csv(fileName, usecols=usecolsall)\n",
    "accidentData['FROMDATE'] = pd.to_datetime(accidentData['FROMDATE']) \n",
    "accidentData = accidentData[accidentData['FROMDATE'] > \"2016-12-31\"]\n",
    "accidentData['FROMDATE'] = pd.to_datetime(accidentData['FROMDATE']) \n",
    "accidentData = accidentData[accidentData['FROMDATE'] > \"2016-12-31\"]\n",
    "\n",
    "smallData = accidentData[['TOTAL_BICYCLES','TOTAL_VEHICLES','TOTAL_PEDESTRIANS','LATITUDE', 'LONGITUDE', 'XCOORD', 'YCOORD', 'FATAL_BICYCLIST', 'MPDLATITUDE', 'MPDLONGITUDE', 'FROMDATE','STREETSEGID','ROUTEID','NEARESTINTSTREETNAME','NEARESTINTROUTEID','OFFINTERSECTION']]\n",
    "\n",
    "# get only accidents that include a bike\n",
    "bikeData = smallData[smallData['TOTAL_BICYCLES'] > 0]\n",
    "\n",
    "# save to csv\n",
    "bikeData.to_csv(\"data/modified data/bikes.csv\", index=False)"
   ]
  },
  {
   "cell_type": "code",
   "execution_count": 44,
   "metadata": {},
   "outputs": [],
   "source": [
    "# now make bike share movement data\n",
    "bikeShareTrips = pd.read_csv(\"data/source data/bikeShareTrips.csv\")\n",
    "bikeShareLocations = pd.read_csv(\"data/source data/bikeShareLocations.csv\")\n",
    "startLocations = bikeShareTrips['start_station_name'].values\n",
    "endLocations = bikeShareTrips['end_station_name'].values\n",
    "locationList = bikeShareLocations['NAME'].apply(lambda x:x.lower().strip())"
   ]
  },
  {
   "cell_type": "code",
   "execution_count": 56,
   "metadata": {},
   "outputs": [],
   "source": [
    "b = 0\n",
    "for i in locationList:\n",
    "    b = b + 1\n",
    "    \n",
    "fr = []\n",
    "for ss, es in zip(bikeShareTrips['start_station_name'], bikeShareTrips['end_station_name']):\n",
    "    fr.append(str(ss) + ' - ' + str(es))\n",
    "bikeShareTrips['fullRoutes'] = fr\n",
    "\n",
    "start_station_names = []\n",
    "end_station_names = []\n",
    "total_rides = []\n",
    "start_station_lats = []\n",
    "start_station_longs = []\n",
    "end_station_lats = []\n",
    "end_station_longs = []\n",
    "\n",
    "for i,j in zip(bikeShareTrips['fullRoutes'].value_counts().index,bikeShareTrips['fullRoutes'].value_counts()):\n",
    "    \n",
    "    start_station_name = (i.split(\"-\")[0]).strip()\n",
    "    start_station_names.append(start_station_name)\n",
    "    end_station_name = (i.split(\"-\")[1]).strip()\n",
    "    end_station_names.append(end_station_name)\n",
    "    \n",
    "    start_station_row = bikeShareLocations[bikeShareLocations['NAME'] == start_station_name]\n",
    "    end_station_row = bikeShareLocations[bikeShareLocations['NAME'] == end_station_name]\n",
    "\n",
    "    if (len(start_station_row['LATITUDE'].values) > 0):\n",
    "        start_station_lats.append(start_station_row['LATITUDE'].values[0])\n",
    "    else:\n",
    "        start_station_lats.append(None)\n",
    "        \n",
    "    if (len(start_station_row['LONGITUDE'].values) > 0):\n",
    "        start_station_longs.append(start_station_row['LONGITUDE'].values[0])\n",
    "    else:\n",
    "        start_station_longs.append(None)\n",
    "        \n",
    "    if (len(end_station_row['LATITUDE'].values) > 0):\n",
    "        end_station_lats.append(end_station_row['LATITUDE'].values[0])\n",
    "    else:\n",
    "        end_station_lats.append(None)\n",
    "        \n",
    "    if (len(end_station_row['LONGITUDE'].values) > 0):\n",
    "        end_station_longs.append(end_station_row['LONGITUDE'].values[0])\n",
    "    else:\n",
    "        end_station_longs.append(None)\n",
    "    \n",
    "    total_rides.append(j)\n",
    "    \n",
    "bikeShareMovement = pd.DataFrame(\n",
    "            {\n",
    "                \"start_station_name\" : start_station_names,\n",
    "                \"end_station_name\" : end_station_names,\n",
    "                \"total_ride\" : total_rides,\n",
    "                \"start_station_lat\" : start_station_lats,\n",
    "                \"start_station_long\" : start_station_longs,\n",
    "                \"end_station_lat\" : end_station_lats,\n",
    "                \"end_station_long\" : end_station_longs\n",
    "            })\n",
    "\n",
    "bikeShareMovement = bikeShareMovement[bikeShareMovement['start_station_lat'] != None]\n",
    "bikeShareMovement = bikeShareMovement[bikeShareMovement['start_station_long'] != None]\n",
    "bikeShareMovement = bikeShareMovement[bikeShareMovement['end_station_lat'] != None]\n",
    "bikeShareMovement = bikeShareMovement[bikeShareMovement['end_station_long'] != None]\n",
    "bikeShareMovement = bikeShareMovement[bikeShareMovement['start_station_lat'].notna()]\n",
    "bikeShareMovement = bikeShareMovement[bikeShareMovement['start_station_long'].notna()]\n",
    "bikeShareMovement = bikeShareMovement[bikeShareMovement['end_station_lat'].notna()]\n",
    "bikeShareMovement = bikeShareMovement[bikeShareMovement['end_station_long'].notna()]\n",
    "\n",
    "bikeShareMovement.head()\n",
    "bikeShareMovement.to_csv(\"data/modified data/bikeShareMovement.csv\")"
   ]
  },
  {
   "cell_type": "code",
   "execution_count": 62,
   "metadata": {},
   "outputs": [
    {
     "name": "stderr",
     "output_type": "stream",
     "text": [
      "/usr/local/lib/python3.9/site-packages/IPython/core/interactiveshell.py:3146: DtypeWarning: Columns (6,8) have mixed types.Specify dtype option on import or set low_memory=False.\n",
      "  has_raised = await self.run_ast_nodes(code_ast.body, cell_name,\n"
     ]
    },
    {
     "ename": "TypeError",
     "evalue": "int() argument must be a string, a bytes-like object or a number, not 'NoneType'",
     "output_type": "error",
     "traceback": [
      "\u001b[0;31m-------------------------------------------------------------------\u001b[0m",
      "\u001b[0;31mTypeError\u001b[0m                         Traceback (most recent call last)",
      "\u001b[0;32m<ipython-input-62-810431b2c079>\u001b[0m in \u001b[0;36m<module>\u001b[0;34m\u001b[0m\n\u001b[1;32m     17\u001b[0m     \u001b[0mstartCount\u001b[0m \u001b[0;34m=\u001b[0m \u001b[0;36m0\u001b[0m\u001b[0;34m\u001b[0m\u001b[0;34m\u001b[0m\u001b[0m\n\u001b[1;32m     18\u001b[0m     \u001b[0mendCount\u001b[0m \u001b[0;34m=\u001b[0m \u001b[0;36m0\u001b[0m\u001b[0;34m\u001b[0m\u001b[0;34m\u001b[0m\u001b[0m\n\u001b[0;32m---> 19\u001b[0;31m     \u001b[0mstartCount\u001b[0m \u001b[0;34m=\u001b[0m \u001b[0mint\u001b[0m\u001b[0;34m(\u001b[0m\u001b[0mstartCounter\u001b[0m\u001b[0;34m.\u001b[0m\u001b[0mget\u001b[0m\u001b[0;34m(\u001b[0m\u001b[0mlocation_name\u001b[0m\u001b[0;34m)\u001b[0m\u001b[0;34m)\u001b[0m\u001b[0;34m\u001b[0m\u001b[0;34m\u001b[0m\u001b[0m\n\u001b[0m\u001b[1;32m     20\u001b[0m     \u001b[0mendCount\u001b[0m \u001b[0;34m=\u001b[0m \u001b[0mint\u001b[0m\u001b[0;34m(\u001b[0m\u001b[0mendCounter\u001b[0m\u001b[0;34m.\u001b[0m\u001b[0mget\u001b[0m\u001b[0;34m(\u001b[0m\u001b[0mlocation_name\u001b[0m\u001b[0;34m)\u001b[0m\u001b[0;34m)\u001b[0m\u001b[0;34m\u001b[0m\u001b[0;34m\u001b[0m\u001b[0m\n\u001b[1;32m     21\u001b[0m \u001b[0;34m\u001b[0m\u001b[0m\n",
      "\u001b[0;31mTypeError\u001b[0m: int() argument must be a string, a bytes-like object or a number, not 'NoneType'"
     ]
    }
   ],
   "source": [
    "# now make bike total traffic data\n",
    "bikeShareTrips = pd.read_csv(\"data/source data/bikeShareTrips.csv\")\n",
    "bikeShareLocations = pd.read_csv(\"data/source data/bikeShareLocations.csv\")\n",
    "\n",
    "locationInRides = []\n",
    "locationOutRides = []\n",
    "locationNames = []\n",
    "locationIds = []\n",
    "locationLats = []\n",
    "locationLongs = []\n",
    "locationBikes = []\n",
    "\n",
    "startCounter = collections.Counter(bikeShareTrips['start_station_name'])\n",
    "endCounter = collections.Counter(bikeShareTrips['end_station_name'])\n",
    "\n",
    "for location_id, location_name, location_lat, location_long, location_capacity in zip(bikeShareLocations[\"STATION_ID\"],bikeShareLocations[\"NAME\"], bikeShareLocations[\"LATITUDE\"],bikeShareLocations[\"LONGITUDE\"],bikeShareLocations[\"CAPACITY\"]):\n",
    "    startCount = 0\n",
    "    endCount = 0\n",
    "    startCount = startCounter.get(location_name)\n",
    "    endCount = endCounter.get(location_name)\n",
    "            \n",
    "    locationInRides.append(startCount)\n",
    "    locationOutRides.append(endCount)\n",
    "    locationNames.append(location_name)\n",
    "    locationIds.append(location_id)\n",
    "    locationLats.append(location_lat)\n",
    "    locationLongs.append(location_long)\n",
    "    locationBikes.append(location_capacity)\n",
    "\n",
    "bikeShareStationTotals = pd.DataFrame(\n",
    "            {\n",
    "                \"station\" : locationNames,\n",
    "                \"station_id\" : locationIds,\n",
    "                \"total_out\" : locationOutRides,\n",
    "                \"total_in\" : locationInRides,\n",
    "                \"station_lat\" : locationLats,\n",
    "                \"station_long\" : locationLongs,\n",
    "                \"station_bikes\" : locationBikes\n",
    "            })\n",
    "\n",
    "bikeShareStationTotals.to_csv(\"data/modified data/bikeShareStationTotals.csv\")"
   ]
  },
  {
   "cell_type": "code",
   "execution_count": null,
   "metadata": {},
   "outputs": [],
   "source": [
    "bikeShareStationTotals"
   ]
  }
 ],
 "metadata": {
  "kernelspec": {
   "display_name": "Python 3",
   "language": "python",
   "name": "python3"
  },
  "language_info": {
   "codemirror_mode": {
    "name": "ipython",
    "version": 3
   },
   "file_extension": ".py",
   "mimetype": "text/x-python",
   "name": "python",
   "nbconvert_exporter": "python",
   "pygments_lexer": "ipython3",
   "version": "3.9.2"
  }
 },
 "nbformat": 4,
 "nbformat_minor": 2
}
