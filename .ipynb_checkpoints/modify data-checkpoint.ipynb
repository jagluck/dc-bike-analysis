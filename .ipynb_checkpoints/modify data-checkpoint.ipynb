{
 "cells": [
  {
   "cell_type": "code",
   "execution_count": 14,
   "metadata": {},
   "outputs": [],
   "source": [
    "import pandas as pd \n",
    "import numpy as np"
   ]
  },
  {
   "cell_type": "code",
   "execution_count": 18,
   "metadata": {},
   "outputs": [
    {
     "name": "stderr",
     "output_type": "stream",
     "text": [
      "c:\\users\\jagluck\\appdata\\local\\programs\\python\\python36-32\\lib\\site-packages\\IPython\\core\\interactiveshell.py:2785: DtypeWarning: Columns (4,49) have mixed types. Specify dtype option on import or set low_memory=False.\n",
      "  interactivity=interactivity, compiler=compiler, result=result)\n"
     ]
    }
   ],
   "source": [
    "# first make bike accident dataset\n",
    "\n",
    "fileName = \"data/source data/accidents.csv\"\n",
    "usecolsall = [\"X\",\"Y\",\"OBJECTID\",\"CRIMEID\",\"CCN\",\"REPORTDATE\",\"ROUTEID\",\"MEASURE\",\"OFFSET\",\"STREETSEGID\",\"ROADWAYSEGID\",\"FROMDATE\",\"TODATE\",\"MARID\",\"ADDRESS\",\"LATITUDE\",\"LONGITUDE\",\"XCOORD\",\"YCOORD\",\"WARD\",\"EVENTID\",\"MAR_ADDRESS\",\"MAR_SCORE\",\"MAJORINJURIES_BICYCLIST\",\"MINORINJURIES_BICYCLIST\",\"UNKNOWNINJURIES_BICYCLIST\",\"FATAL_BICYCLIST\",\"MAJORINJURIES_DRIVER\",\"MINORINJURIES_DRIVER\",\"UNKNOWNINJURIES_DRIVER\",\"FATAL_DRIVER\",\"MAJORINJURIES_PEDESTRIAN\",\"MINORINJURIES_PEDESTRIAN\",\"UNKNOWNINJURIES_PEDESTRIAN\",\"FATAL_PEDESTRIAN\",\"TOTAL_VEHICLES\",\"TOTAL_BICYCLES\",\"TOTAL_PEDESTRIANS\",\"PEDESTRIANSIMPAIRED\",\"BICYCLISTSIMPAIRED\",\"DRIVERSIMPAIRED\",\"TOTAL_TAXIS\",\"TOTAL_GOVERNMENT\",\"SPEEDING_INVOLVED\",\"NEARESTINTROUTEID\",\"NEARESTINTSTREETNAME\",\"OFFINTERSECTION\",\"INTAPPROACHDIRECTION\",\"LOCATIONERROR\",\"LASTUPDATEDATE\",\"MPDLATITUDE\",\"MPDLONGITUDE\",\"MPDGEOX\",\"MPDGEOY\",\"BLOCKKEY\"]\n",
    "accidentData = pd.read_csv(fileName, usecols=usecolsall)\n",
    "accidentData['FROMDATE'] = pd.to_datetime(accidentData['FROMDATE']) \n",
    "accidentData = accidentData[accidentData['FROMDATE'] > \"2016-12-31\"]\n",
    "accidentData['FROMDATE'] = pd.to_datetime(accidentData['FROMDATE']) \n",
    "accidentData = accidentData[accidentData['FROMDATE'] > \"2016-12-31\"]\n",
    "\n",
    "smallData = accidentData[['TOTAL_BICYCLES','TOTAL_VEHICLES','TOTAL_PEDESTRIANS','LATITUDE', 'LONGITUDE', 'XCOORD', 'YCOORD', 'FATAL_BICYCLIST', 'MPDLATITUDE', 'MPDLONGITUDE', 'FROMDATE','STREETSEGID','ROUTEID','NEARESTINTSTREETNAME','NEARESTINTROUTEID','OFFINTERSECTION']]\n",
    "\n",
    "# get only accidents that include a bike\n",
    "bikeData = smallData[smallData['TOTAL_BICYCLES'] > 0]\n",
    "\n",
    "# save to csv\n",
    "bikeData.to_csv(\"data/modified data/bikes.csv\", index=False)"
   ]
  },
  {
   "cell_type": "code",
   "execution_count": 19,
   "metadata": {},
   "outputs": [
    {
     "name": "stdout",
     "output_type": "stream",
     "text": [
      "650\n",
      "579\n",
      "577\n"
     ]
    }
   ],
   "source": [
    "# now make bike share movement data\n",
    "bikeShareTrips = pd.read_csv(\"data/source data/bikeShareTrips.csv\")\n",
    "bikeShareLocations = pd.read_csv(\"data/source data/bikeShareLocations.csv\")\n",
    "startLocations = bikeShareTrips['Start station'].values\n",
    "endLocations = bikeShareTrips['End station'].values\n",
    "allLocations = [i.lower().strip() for i in list(np.unique(np.concatenate((startLocations, endLocations), axis=0)))]\n",
    "locationList = bikeShareLocations['ADDRESS'].apply(lambda x:x.lower().strip())\n",
    "\n",
    "print(len(allLocations))\n",
    "print(len(locationList))\n",
    "\n",
    "b = 0\n",
    "for i in locationList:\n",
    "    if (i in allLocations):\n",
    "        b = b + 1\n",
    "print(b)\n",
    "    \n",
    "fr = []\n",
    "for ss, es in zip(bikeShareTrips['Start station number'], bikeShareTrips['End station number']):\n",
    "    fr.append(str(ss) + ' - ' + str(es))\n",
    "bikeShareTrips['fullRoutes'] = fr\n",
    "\n",
    "start_station_ids = []\n",
    "end_station_ids = []\n",
    "total_rides = []\n",
    "start_station_lats = []\n",
    "start_station_longs = []\n",
    "end_station_lats = []\n",
    "end_station_longs = []\n",
    "\n",
    "for i,j in zip(bikeShareTrips['fullRoutes'].value_counts().index,bikeShareTrips['fullRoutes'].value_counts()):\n",
    "    \n",
    "    start_station_id = int((i.split(\"-\")[0]).strip())\n",
    "    start_station_ids.append(start_station_id)\n",
    "    end_station_id = int((i.split(\"-\")[1]).strip())\n",
    "    end_station_ids.append(end_station_id)\n",
    "    \n",
    "    start_station_row = bikeShareLocations[bikeShareLocations['TERMINAL_NUMBER'] == start_station_id]\n",
    "    end_station_row = bikeShareLocations[bikeShareLocations['TERMINAL_NUMBER'] == end_station_id]\n",
    "\n",
    "    if (len(start_station_row['LATITUDE'].values) > 0):\n",
    "        start_station_lats.append(start_station_row['LATITUDE'].values[0])\n",
    "    else:\n",
    "        start_station_lats.append(None)\n",
    "        \n",
    "    if (len(start_station_row['LONGITUDE'].values) > 0):\n",
    "        start_station_longs.append(start_station_row['LONGITUDE'].values[0])\n",
    "    else:\n",
    "        start_station_longs.append(None)\n",
    "        \n",
    "    if (len(end_station_row['LATITUDE'].values) > 0):\n",
    "        end_station_lats.append(end_station_row['LATITUDE'].values[0])\n",
    "    else:\n",
    "        end_station_lats.append(None)\n",
    "        \n",
    "    if (len(end_station_row['LONGITUDE'].values) > 0):\n",
    "        end_station_longs.append(end_station_row['LONGITUDE'].values[0])\n",
    "    else:\n",
    "        end_station_longs.append(None)\n",
    "    \n",
    "    total_rides.append(j)\n",
    "    \n",
    "bikeShareMovement = pd.DataFrame(\n",
    "            {\n",
    "                \"start_station_id\" : start_station_ids,\n",
    "                \"end_station_id\" : end_station_ids,\n",
    "                \"total_ride\" : total_rides,\n",
    "                \"start_station_lat\" : start_station_lats,\n",
    "                \"start_station_long\" : start_station_longs,\n",
    "                \"end_station_lat\" : end_station_lats,\n",
    "                \"end_station_long\" : end_station_longs\n",
    "            })\n",
    "\n",
    "bikeShareMovement = bikeShareMovement[bikeShareMovement['start_station_lat'] != None]\n",
    "bikeShareMovement = bikeShareMovement[bikeShareMovement['start_station_long'] != None]\n",
    "bikeShareMovement = bikeShareMovement[bikeShareMovement['end_station_lat'] != None]\n",
    "bikeShareMovement = bikeShareMovement[bikeShareMovement['end_station_long'] != None]\n",
    "bikeShareMovement = bikeShareMovement[bikeShareMovement['start_station_lat'].notna()]\n",
    "bikeShareMovement = bikeShareMovement[bikeShareMovement['start_station_long'].notna()]\n",
    "bikeShareMovement = bikeShareMovement[bikeShareMovement['end_station_lat'].notna()]\n",
    "bikeShareMovement = bikeShareMovement[bikeShareMovement['end_station_long'].notna()]\n",
    "\n",
    "bikeShareMovement.head()\n",
    "bikeShareMovement.to_csv(\"data/modified data/bikeShareMovement.csv\")"
   ]
  }
 ],
 "metadata": {
  "kernelspec": {
   "display_name": "Python 3",
   "language": "python",
   "name": "python3"
  },
  "language_info": {
   "codemirror_mode": {
    "name": "ipython",
    "version": 3
   },
   "file_extension": ".py",
   "mimetype": "text/x-python",
   "name": "python",
   "nbconvert_exporter": "python",
   "pygments_lexer": "ipython3",
   "version": "3.6.4"
  }
 },
 "nbformat": 4,
 "nbformat_minor": 2
}
