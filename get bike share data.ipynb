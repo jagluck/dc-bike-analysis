{
 "cells": [
  {
   "cell_type": "code",
   "execution_count": 98,
   "metadata": {},
   "outputs": [],
   "source": [
    "import requests\n",
    "import pandas as pd \n",
    "import numpy as np\n",
    "from os import listdir\n",
    "from os.path import isfile, join\n",
    "import pathlib\n",
    "import urllib\n",
    "import urllib.request\n",
    "import zipfile\n",
    "\n",
    "def buildUrl(year, month):\n",
    "    return \"https://s3.amazonaws.com/capitalbikeshare-data/\" + str(year) + \"{0:0=2d}\".format(month) + \"-capitalbikeshare-tripdata.zip\"\n",
    "\n",
    "def downloadFile(url):\n",
    "    r = requests.get(url)\n",
    "    z = zipfile.ZipFile(io.BytesIO(r.content))\n",
    "    ourPath =  str(pathlib.Path().absolute()) + \"\\\\data\\\\bikeShare\\\\monthlyData\\\\\"\n",
    "    print(ourPath)\n",
    "    z.extractall(ourPath)\n",
    "\n",
    "def downloadAll():\n",
    "    year = 2019\n",
    "    month = 2\n",
    "    while month < 13:\n",
    "        url = buildUrl(year,month)\n",
    "        downloadFile(url)\n",
    "\n",
    "        month += 1\n",
    "    "
   ]
  },
  {
   "cell_type": "code",
   "execution_count": 100,
   "metadata": {},
   "outputs": [
    {
     "name": "stdout",
     "output_type": "stream",
     "text": [
      "C:\\Users\\jagluck\\Documents\\Github\\dc-bike-analysis\\data\\bikeShare\\monthlyData\\\n",
      "C:\\Users\\jagluck\\Documents\\Github\\dc-bike-analysis\\data\\bikeShare\\monthlyData\\\n",
      "C:\\Users\\jagluck\\Documents\\Github\\dc-bike-analysis\\data\\bikeShare\\monthlyData\\\n",
      "C:\\Users\\jagluck\\Documents\\Github\\dc-bike-analysis\\data\\bikeShare\\monthlyData\\\n",
      "C:\\Users\\jagluck\\Documents\\Github\\dc-bike-analysis\\data\\bikeShare\\monthlyData\\\n",
      "C:\\Users\\jagluck\\Documents\\Github\\dc-bike-analysis\\data\\bikeShare\\monthlyData\\\n",
      "C:\\Users\\jagluck\\Documents\\Github\\dc-bike-analysis\\data\\bikeShare\\monthlyData\\\n",
      "C:\\Users\\jagluck\\Documents\\Github\\dc-bike-analysis\\data\\bikeShare\\monthlyData\\\n",
      "C:\\Users\\jagluck\\Documents\\Github\\dc-bike-analysis\\data\\bikeShare\\monthlyData\\\n",
      "C:\\Users\\jagluck\\Documents\\Github\\dc-bike-analysis\\data\\bikeShare\\monthlyData\\\n",
      "C:\\Users\\jagluck\\Documents\\Github\\dc-bike-analysis\\data\\bikeShare\\monthlyData\\\n"
     ]
    }
   ],
   "source": [
    "downloadAll()"
   ]
  },
  {
   "cell_type": "code",
   "execution_count": 106,
   "metadata": {},
   "outputs": [
    {
     "name": "stdout",
     "output_type": "stream",
     "text": [
      "['201901-capitalbikeshare-tripdata.csv', '201902-capitalbikeshare-tripdata.csv', '201903-capitalbikeshare-tripdata.csv', '201904-capitalbikeshare-tripdata.csv', '201905-capitalbikeshare-tripdata.csv', '201906-capitalbikeshare-tripdata.csv', '201907-capitalbikeshare-tripdata', '201908-capitalbikeshare-tripdata', '201909-capitalbikeshare-tripdata.csv', '201910-capitalbikeshare-tripdata.csv', '201911-capitalbikeshare-tripdata.csv', '201912-capitalbikeshare-tripdata.csv']\n",
      "C:\\Users\\jagluck\\Documents\\Github\\dc-bike-analysis\\data\\bikeShare\\monthlyData\\201901-capitalbikeshare-tripdata.csv\n",
      "C:\\Users\\jagluck\\Documents\\Github\\dc-bike-analysis\\data\\bikeShare\\monthlyData\\201902-capitalbikeshare-tripdata.csv\n",
      "C:\\Users\\jagluck\\Documents\\Github\\dc-bike-analysis\\data\\bikeShare\\monthlyData\\201903-capitalbikeshare-tripdata.csv\n",
      "C:\\Users\\jagluck\\Documents\\Github\\dc-bike-analysis\\data\\bikeShare\\monthlyData\\201904-capitalbikeshare-tripdata.csv\n",
      "C:\\Users\\jagluck\\Documents\\Github\\dc-bike-analysis\\data\\bikeShare\\monthlyData\\201905-capitalbikeshare-tripdata.csv\n",
      "C:\\Users\\jagluck\\Documents\\Github\\dc-bike-analysis\\data\\bikeShare\\monthlyData\\201906-capitalbikeshare-tripdata.csv\n",
      "C:\\Users\\jagluck\\Documents\\Github\\dc-bike-analysis\\data\\bikeShare\\monthlyData\\201907-capitalbikeshare-tripdata\n",
      "C:\\Users\\jagluck\\Documents\\Github\\dc-bike-analysis\\data\\bikeShare\\monthlyData\\201908-capitalbikeshare-tripdata\n",
      "C:\\Users\\jagluck\\Documents\\Github\\dc-bike-analysis\\data\\bikeShare\\monthlyData\\201909-capitalbikeshare-tripdata.csv\n",
      "C:\\Users\\jagluck\\Documents\\Github\\dc-bike-analysis\\data\\bikeShare\\monthlyData\\201910-capitalbikeshare-tripdata.csv\n",
      "C:\\Users\\jagluck\\Documents\\Github\\dc-bike-analysis\\data\\bikeShare\\monthlyData\\201911-capitalbikeshare-tripdata.csv\n",
      "C:\\Users\\jagluck\\Documents\\Github\\dc-bike-analysis\\data\\bikeShare\\monthlyData\\201912-capitalbikeshare-tripdata.csv\n"
     ]
    }
   ],
   "source": [
    "ourPath = str(pathlib.Path().absolute()) + \"\\\\data\\\\bikeShare\\\\monthlyData\\\\\"\n",
    "\n",
    "onlyFiles = [f for f in listdir(ourPath) if isfile(join(ourPath, f))]\n",
    "\n",
    "dfs = []\n",
    "for fileName in onlyFiles:\n",
    "    fileName = str(ourPath + fileName)\n",
    "    print(fileName)\n",
    "    pd.read_csv(fileName, encoding = \"utf-8\")\n",
    "    dfs.append(pd.read_csv(fileName))\n",
    "\n",
    "# Concatenate all data into one DataFrame\n",
    "big_frame = pd.concat(dfs, ignore_index=True)"
   ]
  },
  {
   "cell_type": "code",
   "execution_count": null,
   "metadata": {},
   "outputs": [],
   "source": [
    "print(le)"
   ]
  }
 ],
 "metadata": {
  "kernelspec": {
   "display_name": "Python 3",
   "language": "python",
   "name": "python3"
  },
  "language_info": {
   "codemirror_mode": {
    "name": "ipython",
    "version": 3
   },
   "file_extension": ".py",
   "mimetype": "text/x-python",
   "name": "python",
   "nbconvert_exporter": "python",
   "pygments_lexer": "ipython3",
   "version": "3.6.4"
  }
 },
 "nbformat": 4,
 "nbformat_minor": 2
}
